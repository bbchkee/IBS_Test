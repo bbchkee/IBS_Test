{
 "cells": [
  {
   "cell_type": "code",
   "metadata": {
    "collapsed": true,
    "pycharm": {
     "name": "#%%\n"
    }
   },
   "source": [
    "import pandas as pd\n",
    "import numpy as np\n",
    "import re\n",
    "import matplotlib.pyplot as plt\n",
    "from sklearn.linear_model import LinearRegression\n",
    "import copy\n",
    "from IPython.display import display, HTML"
   ],
   "execution_count": 8,
   "outputs": []
  },
  {
   "cell_type": "code",
   "execution_count": 3,
   "outputs": [
    {
     "name": "stdout",
     "output_type": "stream",
     "text": [
      "Loading...\n",
      "Converting...\n",
      "Data converted!\n"
     ]
    }
   ],
   "source": [
    "# Preprocessing.\n",
    "# Conversion all the stuff to the numeric format.\n",
    "print('Loading...')\n",
    "main_data = pd.read_excel('Dataset.xlsx')\n",
    "parameters_definition = pd.read_excel('Описание параметров.xlsx')\n",
    "print('Converting...')\n",
    "for i, c in enumerate(main_data.columns):\n",
    "    if main_data[c].dtype == 'datetime64[ns]':\n",
    "        main_data[c] = main_data[c].values.astype(np.int64) // 1e9\n",
    "    if main_data[c].dtype == 'object':\n",
    "        main_data[c] = [ float(re.sub('[.\\d]', '',                      # This creepy regexp\n",
    "                                      re.sub('[^\\d\\.]', '',             # removes alphabetic symbols\n",
    "                                             re.sub(',', '.', item)),   # replaces ',' with '.'\n",
    "                                      1                                 # removes '.' before the first digit\n",
    "                                      )                                 # and needs to be refactored.\n",
    "                               )\n",
    "                         for item\n",
    "                         in main_data[c].values\n",
    "                       ]\n",
    "print('Data converted!')"
   ],
   "metadata": {
    "collapsed": false,
    "pycharm": {
     "name": "#%%\n"
    }
   }
  },
  {
   "cell_type": "code",
   "execution_count": 4,
   "outputs": [
    {
     "name": "stdout",
     "output_type": "stream",
     "text": [
      "Checking the data for NaNs and similar values:\n",
      "\n",
      "! \tCu\tDType float64\tCointains similar values [0.01]\n",
      "! \tNi\tDType float64\tCointains similar values [0.01]\n",
      "! \tH2_Этап3_зона3\tDType float64\tCointains similar values [0.10204082]\n",
      "! \tT_Этап1_зона6\tDType int64\tCointains similar values [0]\n",
      "! \tТочка_росы_Этап1_зона1\tDType float64\tRange = [62.4153658537 63.91890625].\t Contains 7120 NaNs at: [    0     1     2 ... 12788 12789 12790]\n",
      "! \tТочка_росы_Этап1_зона2\tDType float64\tRange = [61.91 64.0462].\t Contains 5671 NaNs at: [  739   740   741 ... 11459 11460 11461]\n",
      "! \tCO_Этап1_зона1\tDType float64\tRange = [1.49 1.63].\t Contains 11476 NaNs at: [    0     1     2 ... 12788 12789 12790]\n",
      "! \tCO_Этап1_зона2\tDType float64\tRange = [0.0332926829 1.6529333333].\t Contains 1315 NaNs at: [10046 10047 10048 ... 12078 12079 12080]\n",
      "\n",
      "19 parameters are removed as non-informative:\n",
      "['Поступление_в_технологическую_секцию', 'Выезд_из_технологической_секции', 'Начало непрерывного отжига', 'Окончание непрерывного отжига', 'Длина_1', 'Длина_2', 'Длина_3', 'Длина_4', 'Длина_5', 'Коэффициент_свойств_стали', 'Средние_магнитные_потери', 'Cu', 'Ni', 'H2_Этап3_зона3', 'T_Этап1_зона6', 'Точка_росы_Этап1_зона1', 'Точка_росы_Этап1_зона2', 'CO_Этап1_зона1', 'CO_Этап1_зона2']\n",
      "\n",
      "Clean dataframe saved.\n"
     ]
    }
   ],
   "source": [
    "# Checking the data for NaNs, zeros and ranges.\n",
    "# Cleaning the data:\n",
    "# removing parameters with big number of broken values;\n",
    "# removing parameters with the same values;\n",
    "# manual removing of broken time-related columns \"поступление в тех.секцию\" and \"выезд из тех.секции\";\n",
    "# manual removing of all cold rolling lengths (zero lengths and strange values)\n",
    "# manual removing of post-parameters\n",
    "\n",
    "removed_parameters = ['Поступление_в_технологическую_секцию',\n",
    "                      'Выезд_из_технологической_секции',\n",
    "                      'Начало непрерывного отжига',\n",
    "                      'Окончание непрерывного отжига',\n",
    "                      'Длина_1',\n",
    "                      'Длина_2',\n",
    "                      'Длина_3',\n",
    "                      'Длина_4',\n",
    "                      'Длина_5',\n",
    "                      'Коэффициент_свойств_стали',\n",
    "                      'Средние_магнитные_потери']\n",
    "\n",
    "print('Checking the data for NaNs and similar values:\\n')\n",
    "\n",
    "UNIQUE_CUT = 1\n",
    "\n",
    "for c in main_data.columns:\n",
    "    if not c in removed_parameters:\n",
    "        broken_flag = False\n",
    "        inds = main_data[c].index[main_data[c].apply(np.isnan)]\n",
    "        unique = np.unique(main_data[c].values)\n",
    "        valmin = np.nanmin(main_data[c].values)\n",
    "        valmax = np.nanmax(main_data[c].values)\n",
    "        if len(inds) > 0:\n",
    "            print('! \\t'+c+'\\tDType '+str(main_data[c].dtype)+'\\tRange = ['+str(valmin)+' '+str(valmax)+'].\\t Contains '+str(len(inds))+' NaNs at: '+str(inds.values))\n",
    "            broken_flag = True\n",
    "        if len(unique) <= UNIQUE_CUT:\n",
    "            print('! \\t'+c+'\\tDType '+str(main_data[c].dtype)+'\\tCointains similar values '+str(unique))\n",
    "            broken_flag = True\n",
    "        else:\n",
    "            #        print('OK\\t'+c+'\\tDType '+str(main_data[c].dtype)+'\\tRange = ['+str(valin)+' '+str(valmax)+'].\\t Len(unique): '+str(len(np.unique(main_data[c].values))))\n",
    "            pass\n",
    "        if broken_flag:\n",
    "            removed_parameters.append(c)\n",
    "print('\\n'+str(len(removed_parameters))+' parameters are removed as non-informative:')\n",
    "print(removed_parameters)\n",
    "valid_parameters = list( set(main_data.columns) - set(removed_parameters) )\n",
    "#print('Valid parameters:')\n",
    "#print(valid_parameters)\n",
    "clean_data = main_data[valid_parameters].copy()\n",
    "\n",
    "print('\\nClean dataframe saved.')"
   ],
   "metadata": {
    "collapsed": false,
    "pycharm": {
     "name": "#%%\n"
    }
   }
  },
  {
   "cell_type": "code",
   "execution_count": 45,
   "outputs": [
    {
     "name": "stdout",
     "output_type": "stream",
     "text": [
      "25 наиболее важных параметров: \n"
     ]
    },
    {
     "data": {
      "text/plain": "<IPython.core.display.HTML object>",
      "text/html": "<table border=\"1\" class=\"dataframe\">\n  <thead>\n    <tr style=\"text-align: right;\">\n      <th></th>\n      <th>Параметр</th>\n      <th>Этап</th>\n      <th>Важность (модельное СКО)</th>\n    </tr>\n  </thead>\n  <tbody>\n    <tr>\n      <th>0</th>\n      <td>N</td>\n      <td>Химия плавки</td>\n      <td>0.257631</td>\n    </tr>\n    <tr>\n      <th>1</th>\n      <td>F</td>\n      <td>Химия плавки</td>\n      <td>0.238945</td>\n    </tr>\n    <tr>\n      <th>2</th>\n      <td>Al</td>\n      <td>Химия плавки</td>\n      <td>0.223502</td>\n    </tr>\n    <tr>\n      <th>3</th>\n      <td>ШОС</td>\n      <td>Химия плавки</td>\n      <td>0.152245</td>\n    </tr>\n    <tr>\n      <th>4</th>\n      <td>Cr</td>\n      <td>Химия плавки</td>\n      <td>0.149097</td>\n    </tr>\n    <tr>\n      <th>5</th>\n      <td>T_проход_3</td>\n      <td>Холодный прокат</td>\n      <td>0.14155</td>\n    </tr>\n    <tr>\n      <th>6</th>\n      <td>Азот_среднее</td>\n      <td>Химия итог</td>\n      <td>0.137227</td>\n    </tr>\n    <tr>\n      <th>7</th>\n      <td>S</td>\n      <td>Химия плавки</td>\n      <td>0.134812</td>\n    </tr>\n    <tr>\n      <th>8</th>\n      <td>Номер плавки</td>\n      <td>Общие данные</td>\n      <td>0.129961</td>\n    </tr>\n    <tr>\n      <th>9</th>\n      <td>T_проход_1</td>\n      <td>Холодный прокат</td>\n      <td>0.108705</td>\n    </tr>\n    <tr>\n      <th>10</th>\n      <td>T_конца_проката</td>\n      <td>Горячий прокат</td>\n      <td>0.103343</td>\n    </tr>\n    <tr>\n      <th>11</th>\n      <td>H2_Этап2_зона3</td>\n      <td>Обезуглероживание</td>\n      <td>0.10013</td>\n    </tr>\n    <tr>\n      <th>12</th>\n      <td>H2_Этап2_зона2</td>\n      <td>Обезуглероживание</td>\n      <td>0.098805</td>\n    </tr>\n    <tr>\n      <th>13</th>\n      <td>Тренд_температуры_перед_реверсивным_станом</td>\n      <td>Холодный прокат</td>\n      <td>0.090725</td>\n    </tr>\n    <tr>\n      <th>14</th>\n      <td>Ti</td>\n      <td>Химия плавки</td>\n      <td>0.090341</td>\n    </tr>\n    <tr>\n      <th>15</th>\n      <td>H2_Этап2_зона1</td>\n      <td>Обезуглероживание</td>\n      <td>0.078495</td>\n    </tr>\n    <tr>\n      <th>16</th>\n      <td>Азот_начало</td>\n      <td>Химия итог</td>\n      <td>0.075594</td>\n    </tr>\n    <tr>\n      <th>17</th>\n      <td>Азот_конец</td>\n      <td>Химия итог</td>\n      <td>0.074992</td>\n    </tr>\n    <tr>\n      <th>18</th>\n      <td>Толщина_МС</td>\n      <td>Магнитные свойства</td>\n      <td>0.067915</td>\n    </tr>\n    <tr>\n      <th>19</th>\n      <td>Точка_росы_Этап2_зона2</td>\n      <td>Обезуглероживание</td>\n      <td>0.0642</td>\n    </tr>\n    <tr>\n      <th>20</th>\n      <td>CO2_Этап2_зона1</td>\n      <td>Обезуглероживание</td>\n      <td>0.059007</td>\n    </tr>\n    <tr>\n      <th>21</th>\n      <td>CO_Этап2_зона4</td>\n      <td>Обезуглероживание</td>\n      <td>0.056139</td>\n    </tr>\n    <tr>\n      <th>22</th>\n      <td>Номер партии</td>\n      <td>Общие данные</td>\n      <td>0.053455</td>\n    </tr>\n    <tr>\n      <th>23</th>\n      <td>CO2_Этап2_зона3</td>\n      <td>Обезуглероживание</td>\n      <td>0.051574</td>\n    </tr>\n    <tr>\n      <th>24</th>\n      <td>Si</td>\n      <td>Химия плавки</td>\n      <td>0.049097</td>\n    </tr>\n  </tbody>\n</table>"
     },
     "metadata": {},
     "output_type": "display_data"
    },
    {
     "name": "stdout",
     "output_type": "stream",
     "text": [
      "\n",
      "Важность отдельных этапов:\n"
     ]
    },
    {
     "data": {
      "text/plain": "<IPython.core.display.HTML object>",
      "text/html": "<table border=\"1\" class=\"dataframe\">\n  <thead>\n    <tr style=\"text-align: right;\">\n      <th></th>\n      <th>Этап</th>\n      <th>СКО (среднее)</th>\n      <th>СКО (медианное)</th>\n    </tr>\n  </thead>\n  <tbody>\n    <tr>\n      <th>0</th>\n      <td>Химия плавки</td>\n      <td>0.125137</td>\n      <td>0.134812</td>\n    </tr>\n    <tr>\n      <th>1</th>\n      <td>Холодный прокат</td>\n      <td>0.061048</td>\n      <td>0.031737</td>\n    </tr>\n    <tr>\n      <th>2</th>\n      <td>Общие данные</td>\n      <td>0.051044</td>\n      <td>0.040759</td>\n    </tr>\n    <tr>\n      <th>3</th>\n      <td>Химия итог</td>\n      <td>0.032932</td>\n      <td>0.017972</td>\n    </tr>\n    <tr>\n      <th>4</th>\n      <td>Горячий прокат</td>\n      <td>0.023967</td>\n      <td>0.004909</td>\n    </tr>\n    <tr>\n      <th>5</th>\n      <td>Обезуглероживание</td>\n      <td>0.016798</td>\n      <td>0.003606</td>\n    </tr>\n    <tr>\n      <th>6</th>\n      <td>Нормализация</td>\n      <td>0.002551</td>\n      <td>0.000138</td>\n    </tr>\n  </tbody>\n</table>"
     },
     "metadata": {},
     "output_type": "display_data"
    }
   ],
   "source": [
    "# Runs linear regression model for the estimation of the influence of given parameters to specific magnetic loss.\n",
    "# Prints a tables with results on importance of parameters and production steps.\n",
    "\n",
    "def steps_x_pars(pars, definitions):\n",
    "    '''Function for association the steps with the parameters.\n",
    "    TODO: May be written more elegant way.'''\n",
    "    steps = []\n",
    "    for p in pars:\n",
    "        for i, d in enumerate(definitions['Название параметра']):\n",
    "            if d==p:\n",
    "                steps.append(definitions['Этап обработки'][i])\n",
    "    return steps\n",
    "\n",
    "def calculate_mean_importance(production_steps_unique, important_pars):\n",
    "    '''Calculates mean and median Rsq for steps of production.'''\n",
    "    mean_rsq = []\n",
    "    median_rsq = []\n",
    "    for step in production_steps_unique:\n",
    "        list_of_rsq_for_current_step = []\n",
    "        for p in important_pars:\n",
    "            if p[1]==step:\n",
    "                list_of_rsq_for_current_step.append(p[2])\n",
    "        mean_rsq.append(np.mean(list_of_rsq_for_current_step))\n",
    "        median_rsq.append(np.median(list_of_rsq_for_current_step))\n",
    "    return mean_rsq, median_rsq\n",
    "\n",
    "r_sq_list = []\n",
    "model_list = []\n",
    "SML = np.array(clean_data['Удельные_потери'])\n",
    "TOP_CUT = 25 # number of important parameters for print\n",
    "\n",
    "for c in clean_data.columns:\n",
    "    data = np.array(clean_data[c].values).reshape((-1,1))\n",
    "    model = LinearRegression().fit(data, SML)\n",
    "    r_sq = model.score(data, SML)\n",
    "    r_sq_list.append(r_sq)\n",
    "    model_list.append(copy.deepcopy(model))\n",
    "\n",
    "production_steps =  steps_x_pars(clean_data.columns, parameters_definition)\n",
    "important_pars = sorted(zip(clean_data.columns, production_steps, r_sq_list, model_list), key=lambda x: x[2], reverse=True)\n",
    "\n",
    "print(str(TOP_CUT)+' наиболее важных параметров: ')\n",
    "display(HTML((pd.DataFrame(np.array(important_pars)[1:TOP_CUT+1,:3], columns = ['Параметр', 'Этап', 'Важность (модельное СКО)']).to_html()))) # 1st entry contains SML\n",
    "\n",
    "production_steps_unique = np.unique(production_steps)\n",
    "mean_rsq, median_rsq = calculate_mean_importance(production_steps_unique, important_pars)\n",
    "zipped_steps = sorted(zip(production_steps_unique, mean_rsq, median_rsq), key=lambda x: x[1], reverse= True)\n",
    "\n",
    "print('\\nВажность отдельных этапов:')\n",
    "display(HTML(pd.DataFrame(zipped_steps[1:], columns = ['Этап', 'СКО (среднее)', 'СКО (медианное)']).to_html())) # 1st entry contains post-production step"
   ],
   "metadata": {
    "collapsed": false,
    "pycharm": {
     "name": "#%%\n"
    }
   }
  },
  {
   "cell_type": "code",
   "execution_count": null,
   "outputs": [],
   "source": [
    "# Not necessary. Just for show the way of thinking.\n",
    "# Plotting the fits of top important parameters.\n",
    "# TOP_CUT constant is defined in the previous block\n",
    "def par_vs_sml(par, model):\n",
    "    ''' Plots parameter-on-parameter direct distribution and model fit.'''\n",
    "    plt.plot(clean_data['Удельные_потери'].values, clean_data[par].values, 'x')\n",
    "    plt.plot(model.predict(np.array(clean_data[par].values).reshape((-1,1)) ), clean_data[par].values,  label='Model')\n",
    "    #    print(model.predict(np.array(clean_data['Удельные_потери'].values).reshape((-1,1))))\n",
    "    plt.title(par)\n",
    "    plt.ticklabel_format(useOffset=False)\n",
    "    plt.xlabel('Удельные магнитные потери')\n",
    "    plt.ylabel(par)\n",
    "    plt.show()\n",
    "    plt.clf()\n",
    "for entry in important_pars[1:TOP_CUT+1]:\n",
    "    par_vs_sml(entry[0],entry[3])"
   ],
   "metadata": {
    "collapsed": false,
    "pycharm": {
     "name": "#%%\n",
     "is_executing": true
    }
   }
  },
  {
   "cell_type": "code",
   "execution_count": null,
   "outputs": [],
   "source": [
    "# Not necessary. Just for show the way of thinking.\n",
    "# Generates a lot of plots (dependence of time on melting and brigade numbers).\n",
    "# By this I found that times are connected with number of melting, so it can be reconstructed by this.\n",
    "\n",
    "def par_vs_par(par1, par2, only_abs = True):\n",
    "    ''' Plots parameter-on-parameter direct distribution.\n",
    "    only_abs argument enables abs-value cut for both parameters by the value of PARAMETER 1 (Y-axis) '''\n",
    "    if only_abs:\n",
    "        plt.plot(main_data[par2].values[tuple(np.where(main_data[par1].values > 0))],\n",
    "                 main_data[par1].values[tuple(np.where(main_data[par1].values > 0))], 'x')\n",
    "        plt.title('Only abs cut of '+par2)\n",
    "    else:\n",
    "        plt.plot(main_data[par2].values[tuple(np.where(main_data[par1].values != np.nan))],\n",
    "                 main_data[par1].values[tuple(np.where(main_data[par1].values != np.nan))], 'x')\n",
    "        plt.title('All values of '+par2)\n",
    "    plt.ticklabel_format(useOffset=False)\n",
    "    plt.xlabel(par2)\n",
    "    plt.ylabel(par1)\n",
    "    plt.show()\n",
    "    plt.clf()\n",
    "    return 0\n",
    "def real_time_histogram(time, parameter):\n",
    "    ''' Takes names of checked parameters as 'strings'\n",
    "    Plots the distribution. '''\n",
    "    cut_indexes = (np.where(main_data[time] > 0))\n",
    "    parameter_cut = main_data[parameter].values[tuple(cut_indexes)]\n",
    "    plt.hist(parameter_cut)\n",
    "    plt.title(time + ' (правильное)')\n",
    "    plt.xlabel(parameter)\n",
    "    plt.ylabel('N')\n",
    "    plt.show()\n",
    "    plt.clf()\n",
    "def dead_time_histogram(time, parameter):\n",
    "    ''' Takes names of checked parameters as 'strings'\n",
    "    Plots the distribution. '''\n",
    "    cut_indexes = (np.where(main_data[time] < 0))\n",
    "    parameter_cut = main_data[parameter].values[tuple(cut_indexes)]\n",
    "    plt.hist(parameter_cut)\n",
    "    plt.title(time + ' (сломанное)')\n",
    "    plt.xlabel(parameter)\n",
    "    plt.ylabel('N')\n",
    "    plt.show()\n",
    "    plt.clf()\n",
    "\n",
    "print('Earliest: '+str(pd.to_datetime((np.min(main_data['Выезд_из_технологической_секции'])) * 1e9)))\n",
    "print('Latest: '  +str(pd.to_datetime((np.max(main_data['Выезд_из_технологической_секции'])) * 1e9)))\n",
    "\n",
    "# Lets check the times and numbers...\n",
    "print('Поступление_в_технологическую_секцию '+str(np.unique(main_data['Поступление_в_технологическую_секцию'].values)))\n",
    "print('Выезд_из_технологической_секции '+str(np.unique(main_data['Выезд_из_технологической_секции'].values)))\n",
    "print('Номер плавки '+str(np.unique(main_data['Номер плавки'].values)))\n",
    "\n",
    "# Hmm, what about the distribution of broken times on the melting numbers?\n",
    "par_vs_par('Поступление_в_технологическую_секцию', 'Номер плавки')\n",
    "par_vs_par('Поступление_в_технологическую_секцию', 'Номер плавки', only_abs = False)\n",
    "par_vs_par('Выезд_из_технологической_секции', 'Номер_бригады')\n",
    "par_vs_par('Выезд_из_технологической_секции', 'Номер_бригады', only_abs = False)\n",
    "\n",
    "# Histograms of times...\n",
    "real_time_histogram('Поступление_в_технологическую_секцию', 'Номер плавки')\n",
    "dead_time_histogram('Поступление_в_технологическую_секцию', 'Номер плавки')\n",
    "real_time_histogram('Выезд_из_технологической_секции', 'Номер плавки')\n",
    "dead_time_histogram('Выезд_из_технологической_секции', 'Номер плавки')\n",
    "\n",
    "# Okaaay. What about the brigade number?\n",
    "real_time_histogram('Поступление_в_технологическую_секцию', 'Номер_бригады')\n",
    "dead_time_histogram('Поступление_в_технологическую_секцию', 'Номер_бригады')\n",
    "real_time_histogram('Выезд_из_технологической_секции', 'Номер_бригады')\n",
    "dead_time_histogram('Выезд_из_технологической_секции', 'Номер_бригады')\n",
    "\n",
    "# Ok. Seems not human factor. Not correlated."
   ],
   "metadata": {
    "collapsed": false,
    "pycharm": {
     "name": "#%%\n"
    }
   }
  },
  {
   "cell_type": "code",
   "execution_count": null,
   "outputs": [],
   "source": [
    "# Not necessary. Just for show the way of thinking.\n",
    "# Check the lengths.\n",
    "def plot_hist(parameter):\n",
    "    plt.hist(main_data[parameter])\n",
    "    plt.xlabel(parameter)\n",
    "    plt.show()\n",
    "    plt.clf()\n",
    "\n",
    "for i in range(1,6):\n",
    "    plot_hist('Длина_'+str(i))\n",
    "\n",
    "# Check the deltas.\n",
    "limits = [-1000,8000]\n",
    "bins = 1000\n",
    "for i in range(1,5):\n",
    "    deltas = main_data['Длина_'+str(i+1)].values - main_data['Длина_'+str(i)].values\n",
    "    plt.hist(deltas, bins = 200, range = (0,8000))\n",
    "    plt.title('Длина_'+str(i+1)+' - Длина_'+str(i))\n",
    "    plt.xlabel('Delta(Length)')\n",
    "    plt.ylabel('N')\n",
    "    plt.show()\n",
    "    plt.clf()\n"
   ],
   "metadata": {
    "collapsed": false,
    "pycharm": {
     "name": "#%%\n"
    }
   }
  }
 ],
 "metadata": {
  "kernelspec": {
   "display_name": "Python 3",
   "language": "python",
   "name": "python3"
  },
  "language_info": {
   "codemirror_mode": {
    "name": "ipython",
    "version": 2
   },
   "file_extension": ".py",
   "mimetype": "text/x-python",
   "name": "python",
   "nbconvert_exporter": "python",
   "pygments_lexer": "ipython2",
   "version": "2.7.6"
  }
 },
 "nbformat": 4,
 "nbformat_minor": 0
}